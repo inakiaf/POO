{
  "nbformat": 4,
  "nbformat_minor": 0,
  "metadata": {
    "colab": {
      "provenance": []
    },
    "kernelspec": {
      "name": "python3",
      "display_name": "Python 3"
    },
    "language_info": {
      "name": "python"
    }
  },
  "cells": [
    {
      "cell_type": "code",
      "execution_count": 2,
      "metadata": {
        "colab": {
          "base_uri": "https://localhost:8080/"
        },
        "id": "EHtG5GCZ8nGb",
        "outputId": "386c3c39-94dd-4827-e3c0-6fac6e45cd32"
      },
      "outputs": [
        {
          "output_type": "stream",
          "name": "stdout",
          "text": [
            "Matriz original:\n",
            "[[8 9]\n",
            " [7 5]]\n",
            "Determinante: -23.0\n",
            "Inversa:\n",
            "[[-0.2173913   0.39130435]\n",
            " [ 0.30434783 -0.34782609]]\n",
            "Transpuesta:\n",
            "[[8 7]\n",
            " [9 5]]\n",
            "Matriz rotada 56 grados:\n",
            "[[-1.32971978  0.88754827]\n",
            " [10.5466509  10.25730267]]\n"
          ]
        }
      ],
      "source": [
        "import numpy as np\n",
        "\n",
        "class Matriz:\n",
        "    def __init__(self, matriz):\n",
        "        self.matriz = matriz\n",
        "\n",
        "    def __str__(self):\n",
        "        return str(self.matriz)\n",
        "\n",
        "    def determinante(self):\n",
        "        return np.linalg.det(self.matriz)\n",
        "\n",
        "    def inversa(self):\n",
        "        return np.linalg.inv(self.matriz)\n",
        "\n",
        "    def transpuesta(self):\n",
        "        return np.transpose(self.matriz)\n",
        "\n",
        "    def rotacion(self, angulo):\n",
        "        rad = np.radians(angulo)\n",
        "        matriz_rotacion = np.array([[np.cos(rad), -np.sin(rad)],\n",
        "                                    [np.sin(rad), np.cos(rad)]])\n",
        "        return np.dot(matriz_rotacion, self.matriz)\n",
        "\n",
        "class MatrizOperaciones(Matriz):\n",
        "    def __init__(self, matriz):\n",
        "        super().__init__(matriz)\n",
        "\n",
        "    def determinante(self):\n",
        "        return super().determinante()\n",
        "\n",
        "    def inversa(self):\n",
        "        return super().inversa()\n",
        "\n",
        "    def transpuesta(self):\n",
        "        return super().transpuesta()\n",
        "\n",
        "    def rotacion(self, angulo):\n",
        "        return super().rotacion(angulo)\n",
        "\n",
        "# Ejemplo de uso\n",
        "matriz = np.array([[8, 9],\n",
        "                   [7, 5]])\n",
        "\n",
        "mat = MatrizOperaciones(matriz)\n",
        "print(\"Matriz original:\")\n",
        "print(mat)\n",
        "print(\"Determinante:\", mat.determinante())\n",
        "print(\"Inversa:\")\n",
        "print(mat.inversa())\n",
        "print(\"Transpuesta:\")\n",
        "print(mat.transpuesta())\n",
        "print(\"Matriz rotada 56 grados:\")\n",
        "print(mat.rotacion(56))\n"
      ]
    }
  ]
}