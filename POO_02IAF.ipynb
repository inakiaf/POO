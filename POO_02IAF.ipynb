{
  "nbformat": 4,
  "nbformat_minor": 0,
  "metadata": {
    "colab": {
      "provenance": []
    },
    "kernelspec": {
      "name": "python3",
      "display_name": "Python 3"
    },
    "language_info": {
      "name": "python"
    }
  },
  "cells": [
    {
      "cell_type": "markdown",
      "source": [
        "#Listas"
      ],
      "metadata": {
        "id": "3falabhvfrXX"
      }
    },
    {
      "cell_type": "code",
      "execution_count": null,
      "metadata": {
        "colab": {
          "base_uri": "https://localhost:8080/"
        },
        "id": "9n9OB6jBfSp_",
        "outputId": "f3a9c281-0753-455e-9fc8-76c193bff10f"
      },
      "outputs": [
        {
          "output_type": "execute_result",
          "data": {
            "text/plain": [
              "range(0, 10)"
            ]
          },
          "metadata": {},
          "execution_count": 96
        }
      ],
      "source": [
        "# Vamos a generar una lista vacía\n",
        "\n",
        "L=[]\n",
        "range(10)"
      ]
    },
    {
      "cell_type": "code",
      "source": [
        "L=[1, 2, 3, 4]\n",
        "L"
      ],
      "metadata": {
        "colab": {
          "base_uri": "https://localhost:8080/"
        },
        "id": "MH9nryxjfYGi",
        "outputId": "d3aac6ae-7fb0-4ae8-a9ee-8d2c0d2a6362"
      },
      "execution_count": null,
      "outputs": [
        {
          "output_type": "execute_result",
          "data": {
            "text/plain": [
              "[1, 2, 3, 4]"
            ]
          },
          "metadata": {},
          "execution_count": 97
        }
      ]
    },
    {
      "cell_type": "code",
      "source": [
        "#Agregar un elemento a la lista ya creada\n",
        "\n",
        "L.append(10)\n",
        "L"
      ],
      "metadata": {
        "colab": {
          "base_uri": "https://localhost:8080/"
        },
        "id": "eBnCs8W_fpn1",
        "outputId": "6c625a2e-f645-49a8-ca81-e9c38d2dc0d8"
      },
      "execution_count": null,
      "outputs": [
        {
          "output_type": "execute_result",
          "data": {
            "text/plain": [
              "[1, 2, 3, 4, 10]"
            ]
          },
          "metadata": {},
          "execution_count": 98
        }
      ]
    },
    {
      "cell_type": "code",
      "source": [
        "#Eliminar un elemento de la lista creada\n",
        "L.remove(10)\n",
        "L"
      ],
      "metadata": {
        "colab": {
          "base_uri": "https://localhost:8080/"
        },
        "id": "XH3IK6Sof0-O",
        "outputId": "09555bb2-6228-4c2b-a2b8-b4552bc595b0"
      },
      "execution_count": null,
      "outputs": [
        {
          "output_type": "execute_result",
          "data": {
            "text/plain": [
              "[1, 2, 3, 4]"
            ]
          },
          "metadata": {},
          "execution_count": 99
        }
      ]
    },
    {
      "cell_type": "markdown",
      "source": [
        "##Listas por comprensión"
      ],
      "metadata": {
        "id": "7AbHDK36f3uL"
      }
    },
    {
      "cell_type": "code",
      "source": [
        "#Tipo\n",
        "type([])"
      ],
      "metadata": {
        "colab": {
          "base_uri": "https://localhost:8080/"
        },
        "id": "l8U3CVX6f6Zt",
        "outputId": "98dae69b-e9f0-4db4-cffd-68210fc806c9"
      },
      "execution_count": null,
      "outputs": [
        {
          "output_type": "execute_result",
          "data": {
            "text/plain": [
              "list"
            ]
          },
          "metadata": {},
          "execution_count": 100
        }
      ]
    },
    {
      "cell_type": "code",
      "source": [
        "#Número de elementos que tiene una lista\n",
        "len([2, 4, 6, 8])"
      ],
      "metadata": {
        "colab": {
          "base_uri": "https://localhost:8080/"
        },
        "id": "ca-Z4Tikf7XF",
        "outputId": "5f1cf758-96d3-4321-93b3-0207802e603c"
      },
      "execution_count": null,
      "outputs": [
        {
          "output_type": "execute_result",
          "data": {
            "text/plain": [
              "4"
            ]
          },
          "metadata": {},
          "execution_count": 101
        }
      ]
    },
    {
      "cell_type": "code",
      "source": [
        "Pares = [i for i in range(1, 101) if i%2==0]\n",
        "Pares"
      ],
      "metadata": {
        "colab": {
          "base_uri": "https://localhost:8080/"
        },
        "id": "qSPJCvhzf--l",
        "outputId": "5600e09c-2463-42af-e7c1-7c4c224e9748"
      },
      "execution_count": null,
      "outputs": [
        {
          "output_type": "execute_result",
          "data": {
            "text/plain": [
              "[2,\n",
              " 4,\n",
              " 6,\n",
              " 8,\n",
              " 10,\n",
              " 12,\n",
              " 14,\n",
              " 16,\n",
              " 18,\n",
              " 20,\n",
              " 22,\n",
              " 24,\n",
              " 26,\n",
              " 28,\n",
              " 30,\n",
              " 32,\n",
              " 34,\n",
              " 36,\n",
              " 38,\n",
              " 40,\n",
              " 42,\n",
              " 44,\n",
              " 46,\n",
              " 48,\n",
              " 50,\n",
              " 52,\n",
              " 54,\n",
              " 56,\n",
              " 58,\n",
              " 60,\n",
              " 62,\n",
              " 64,\n",
              " 66,\n",
              " 68,\n",
              " 70,\n",
              " 72,\n",
              " 74,\n",
              " 76,\n",
              " 78,\n",
              " 80,\n",
              " 82,\n",
              " 84,\n",
              " 86,\n",
              " 88,\n",
              " 90,\n",
              " 92,\n",
              " 94,\n",
              " 96,\n",
              " 98,\n",
              " 100]"
            ]
          },
          "metadata": {},
          "execution_count": 102
        }
      ]
    },
    {
      "cell_type": "markdown",
      "source": [
        "##Módulo NumPy"
      ],
      "metadata": {
        "id": "rMWXYQzIgJYJ"
      }
    },
    {
      "cell_type": "code",
      "source": [
        "#Sirve para utilizar la librería\n",
        "import numpy as np"
      ],
      "metadata": {
        "id": "O2NMXw56gMT7"
      },
      "execution_count": null,
      "outputs": []
    },
    {
      "cell_type": "code",
      "source": [
        "#Elige 5 números aleatorio del uno al cien\n",
        "np.random.randint(1, 100, 5)"
      ],
      "metadata": {
        "colab": {
          "base_uri": "https://localhost:8080/"
        },
        "id": "kBUDPl9lgXtA",
        "outputId": "81809c49-13bc-4ede-a175-25b4bebbf2f4"
      },
      "execution_count": null,
      "outputs": [
        {
          "output_type": "execute_result",
          "data": {
            "text/plain": [
              "array([ 3, 30, 44, 44, 31])"
            ]
          },
          "metadata": {},
          "execution_count": 104
        }
      ]
    },
    {
      "cell_type": "code",
      "source": [
        "#Ejercicio: Generar 100 números del 1 al 10 y decir cuales son pares\n",
        "Pares1 = [i for i in np.random.randint(1, 11, 100) if i%2==0]\n",
        "Pares1\n"
      ],
      "metadata": {
        "colab": {
          "base_uri": "https://localhost:8080/"
        },
        "id": "aczFgvKChPxn",
        "outputId": "300bc964-c57f-44c6-9ff4-9352d4704723"
      },
      "execution_count": null,
      "outputs": [
        {
          "output_type": "execute_result",
          "data": {
            "text/plain": [
              "[10,\n",
              " 6,\n",
              " 4,\n",
              " 4,\n",
              " 6,\n",
              " 4,\n",
              " 8,\n",
              " 4,\n",
              " 6,\n",
              " 6,\n",
              " 2,\n",
              " 4,\n",
              " 6,\n",
              " 6,\n",
              " 4,\n",
              " 8,\n",
              " 4,\n",
              " 4,\n",
              " 8,\n",
              " 6,\n",
              " 10,\n",
              " 4,\n",
              " 4,\n",
              " 10,\n",
              " 10,\n",
              " 4,\n",
              " 2,\n",
              " 6,\n",
              " 2,\n",
              " 4,\n",
              " 4,\n",
              " 4,\n",
              " 10,\n",
              " 10,\n",
              " 6,\n",
              " 4,\n",
              " 10,\n",
              " 2,\n",
              " 4,\n",
              " 10,\n",
              " 6,\n",
              " 6,\n",
              " 4,\n",
              " 10,\n",
              " 10,\n",
              " 2,\n",
              " 8,\n",
              " 8]"
            ]
          },
          "metadata": {},
          "execution_count": 108
        }
      ]
    }
  ]
}