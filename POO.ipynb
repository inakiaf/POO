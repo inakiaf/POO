{
  "nbformat": 4,
  "nbformat_minor": 0,
  "metadata": {
    "colab": {
      "provenance": []
    },
    "kernelspec": {
      "name": "python3",
      "display_name": "Python 3"
    },
    "language_info": {
      "name": "python"
    }
  },
  "cells": [
    {
      "cell_type": "code",
      "execution_count": null,
      "metadata": {
        "id": "oyuXnFgqjDmw"
      },
      "outputs": [],
      "source": []
    },
    {
      "cell_type": "markdown",
      "source": [
        "# primeros objetos\n",
        "\n",
        "1. objetos.\n",
        "2. listas.\n",
        "3. conjuntos."
      ],
      "metadata": {
        "id": "Tq67AsYqj88x"
      }
    },
    {
      "cell_type": "markdown",
      "source": [],
      "metadata": {
        "id": "N1IShsOrj7Wb"
      }
    },
    {
      "cell_type": "markdown",
      "source": [
        "En Python se pueden realizar operaciones sobre objetos.\n",
        "Ademas, es util para resolver un sistema de ecucaciones lineales.\n",
        "\n",
        "$$\n",
        "f(x,y)=\\begin{cases}\n",
        "x+2y = 3\\\\\n",
        "2x+4y = 6\n",
        "\\end{cases}\n",
        "$$"
      ],
      "metadata": {
        "id": "hDCbDr5jltg6"
      }
    },
    {
      "cell_type": "code",
      "source": [
        "print(\"hola mundo!\")\n"
      ],
      "metadata": {
        "colab": {
          "base_uri": "https://localhost:8080/"
        },
        "id": "8u3sXSgarMZd",
        "outputId": "a4f57fc2-6761-4392-cd6b-a8026fae4f6c"
      },
      "execution_count": 1,
      "outputs": [
        {
          "output_type": "stream",
          "name": "stdout",
          "text": [
            "hola mundo!\n"
          ]
        }
      ]
    },
    {
      "cell_type": "markdown",
      "source": [],
      "metadata": {
        "id": "0z_LLx1Gq9lk"
      }
    },
    {
      "cell_type": "markdown",
      "source": [
        "# primeros objetos\n",
        "\n",
        "1. numeros enteros\n",
        "2.  umeros flotantes"
      ],
      "metadata": {
        "id": "2Fz5kMC-sUXh"
      }
    },
    {
      "cell_type": "code",
      "source": [],
      "metadata": {
        "id": "QYVRmwhhs8nE"
      },
      "execution_count": null,
      "outputs": []
    },
    {
      "cell_type": "code",
      "source": [
        "# crear variables\n",
        "x = 3\n",
        "y = 5\n"
      ],
      "metadata": {
        "id": "qjJiSYYUwI8Y"
      },
      "execution_count": 3,
      "outputs": []
    },
    {
      "cell_type": "code",
      "source": [
        "print(x+y)\n",
        "print(x-y)\n",
        "print(x*y)\n",
        "print(x**y)\n",
        "print(x/y)\n",
        "print(x//y)\n",
        "print(x%y)"
      ],
      "metadata": {
        "colab": {
          "base_uri": "https://localhost:8080/"
        },
        "id": "LmvNwYQPwc9m",
        "outputId": "7c90da48-d196-4ccd-c6e0-110116b469f2"
      },
      "execution_count": 4,
      "outputs": [
        {
          "output_type": "stream",
          "name": "stdout",
          "text": [
            "8\n",
            "-2\n",
            "15\n",
            "243\n",
            "0.6\n",
            "0\n",
            "3\n"
          ]
        }
      ]
    }
  ]
}