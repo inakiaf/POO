{
  "nbformat": 4,
  "nbformat_minor": 0,
  "metadata": {
    "colab": {
      "provenance": []
    },
    "kernelspec": {
      "name": "python3",
      "display_name": "Python 3"
    },
    "language_info": {
      "name": "python"
    }
  },
  "cells": [
    {
      "cell_type": "markdown",
      "source": [
        "#Perímetro y área del triángulo"
      ],
      "metadata": {
        "id": "9nXP-3NVbnu2"
      }
    },
    {
      "cell_type": "code",
      "execution_count": null,
      "metadata": {
        "id": "-mchAZT7WaYL"
      },
      "outputs": [],
      "source": [
        "#Defines el perímetro y escribes la fórmula\n",
        "def Perimetro(b,l):\n",
        "  p=(b*2)+l\n",
        "  return p"
      ]
    },
    {
      "cell_type": "code",
      "source": [
        "#Le das los valores a b y l\n",
        "Perimetro(4,8)"
      ],
      "metadata": {
        "colab": {
          "base_uri": "https://localhost:8080/"
        },
        "id": "9_bMQJgobjBu",
        "outputId": "ae52afc8-4848-4853-c1d8-6cd3ccf76929"
      },
      "execution_count": null,
      "outputs": [
        {
          "output_type": "execute_result",
          "data": {
            "text/plain": [
              "12"
            ]
          },
          "metadata": {},
          "execution_count": 202
        }
      ]
    },
    {
      "cell_type": "code",
      "source": [
        "#Defines el área y escribes la fórmula\n",
        "def Area(b,h):\n",
        "  a=(b*h)*0.5\n",
        "  return a"
      ],
      "metadata": {
        "id": "hGiPqKg_bxA8"
      },
      "execution_count": null,
      "outputs": []
    },
    {
      "cell_type": "code",
      "source": [
        "#Le das los valores a b y h\n",
        "Area(4,8)"
      ],
      "metadata": {
        "colab": {
          "base_uri": "https://localhost:8080/"
        },
        "id": "MqPwg7VPcDlD",
        "outputId": "d0ea3a1e-81d7-4c23-ffff-841586cc59b1"
      },
      "execution_count": null,
      "outputs": [
        {
          "output_type": "execute_result",
          "data": {
            "text/plain": [
              "8.0"
            ]
          },
          "metadata": {},
          "execution_count": 204
        }
      ]
    },
    {
      "cell_type": "markdown",
      "source": [
        "#Determinar si un número es par o no"
      ],
      "metadata": {
        "id": "vJVKqxE0lXoC"
      }
    },
    {
      "cell_type": "code",
      "source": [
        "#Defines la variable npar y escribes la fórmula\n",
        "def npar(x):\n",
        "  num=x%2\n",
        "  return num"
      ],
      "metadata": {
        "id": "e3-DO45Kcib2"
      },
      "execution_count": null,
      "outputs": []
    },
    {
      "cell_type": "code",
      "source": [
        "#Escribes los if para cada caso, si el residuo es 0 es par sino es impar\n",
        "x = 7\n",
        "if (npar(x)==0):\n",
        "  print(\"Es par\")\n",
        "if (npar(x)!=0):\n",
        "  print(\"Es impar\")"
      ],
      "metadata": {
        "colab": {
          "base_uri": "https://localhost:8080/"
        },
        "id": "uWyEe8zpjiPb",
        "outputId": "268a39d8-0564-4561-a2b9-efc1664083d3"
      },
      "execution_count": null,
      "outputs": [
        {
          "output_type": "stream",
          "name": "stdout",
          "text": [
            "Es impar\n"
          ]
        }
      ]
    },
    {
      "cell_type": "markdown",
      "source": [
        "#Números perfectos"
      ],
      "metadata": {
        "id": "p7Q1Q6-bmVNr"
      }
    },
    {
      "cell_type": "code",
      "source": [
        "#Le pides al usuario un número\n",
        "n = int(input(\"Ingrese un número: \"))\n",
        "L = [i for i in range(1, n) if n%i==0]\n",
        "L"
      ],
      "metadata": {
        "colab": {
          "base_uri": "https://localhost:8080/"
        },
        "id": "sXqWeVRBmf9k",
        "outputId": "936154e4-7fb3-4879-9d52-f0300a568366"
      },
      "execution_count": null,
      "outputs": [
        {
          "name": "stdout",
          "output_type": "stream",
          "text": [
            "Ingrese un número: 9\n"
          ]
        },
        {
          "output_type": "execute_result",
          "data": {
            "text/plain": [
              "[1, 3]"
            ]
          },
          "metadata": {},
          "execution_count": 207
        }
      ]
    },
    {
      "cell_type": "code",
      "source": [
        "#Estableces los if para saber si la suma de los divisores dan el número n entonces es perfecto sino no\n",
        "if (sum(L) == n):\n",
        "  print(\"Es perfecto\")\n",
        "else:\n",
        "  print(\"No es perfecto\")"
      ],
      "metadata": {
        "colab": {
          "base_uri": "https://localhost:8080/"
        },
        "id": "fikKo9R1n7Mc",
        "outputId": "42e8750e-46e1-42fe-8520-e190618c0a85"
      },
      "execution_count": null,
      "outputs": [
        {
          "output_type": "stream",
          "name": "stdout",
          "text": [
            "No es perfecto\n"
          ]
        }
      ]
    }
  ]
}